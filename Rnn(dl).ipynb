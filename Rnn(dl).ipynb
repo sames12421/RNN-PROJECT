{
  "nbformat": 4,
  "nbformat_minor": 0,
  "metadata": {
    "colab": {
      "provenance": [],
      "authorship_tag": "ABX9TyM8kBjsz1mdYRuhWKs/2ZYE",
      "include_colab_link": true
    },
    "kernelspec": {
      "name": "python3",
      "display_name": "Python 3"
    },
    "language_info": {
      "name": "python"
    }
  },
  "cells": [
    {
      "cell_type": "markdown",
      "metadata": {
        "id": "view-in-github",
        "colab_type": "text"
      },
      "source": [
        "<a href=\"https://colab.research.google.com/github/sames12421/RNN-PROJECT/blob/main/Rnn(dl).ipynb\" target=\"_parent\"><img src=\"https://colab.research.google.com/assets/colab-badge.svg\" alt=\"Open In Colab\"/></a>"
      ]
    },
    {
      "cell_type": "code",
      "execution_count": null,
      "metadata": {
        "id": "P3rA-hCoougz"
      },
      "outputs": [],
      "source": [
        "import tensorflow as tf\n",
        "from tensorflow.keras.models import Sequential\n",
        "from tensorflow.keras.layers import SimpleRNN, Dense, Embedding #represent and finding the relationship between categorical data\n",
        "import numpy as np"
      ]
    },
    {
      "cell_type": "code",
      "source": [
        "timesteps=100 #timesteps determines the number of data points to generate for your time series data.\n",
        "x=np.linspace(0,50,timesteps) #create array of evenly space over a specifyed interval\n",
        "y=np.sin(x)"
      ],
      "metadata": {
        "id": "qejB2Rs0pF68"
      },
      "execution_count": null,
      "outputs": []
    },
    {
      "cell_type": "code",
      "source": [
        "#reshape for rnn input\n",
        "x=x.reshape((1,timesteps,1))\n",
        "y=y.reshape((1,timesteps,1))"
      ],
      "metadata": {
        "id": "ZhhQen7_pjfZ"
      },
      "execution_count": null,
      "outputs": []
    },
    {
      "cell_type": "code",
      "source": [
        "# Define the RNN model\n",
        "model = Sequential()\n",
        "model.add(SimpleRNN(units=32, activation='relu', input_shape=(timesteps, 1), return_sequences=True)) #return_sequences=True to get output at each timestep\n",
        "model.add(Dense(units=1))"
      ],
      "metadata": {
        "colab": {
          "base_uri": "https://localhost:8080/"
        },
        "id": "JP0x3YoksdUP",
        "outputId": "1f3aa6aa-fe5d-4b2c-d240-f043dde3b8d1"
      },
      "execution_count": null,
      "outputs": [
        {
          "output_type": "stream",
          "name": "stderr",
          "text": [
            "/usr/local/lib/python3.11/dist-packages/keras/src/layers/rnn/rnn.py:200: UserWarning: Do not pass an `input_shape`/`input_dim` argument to a layer. When using Sequential models, prefer using an `Input(shape)` object as the first layer in the model instead.\n",
            "  super().__init__(**kwargs)\n"
          ]
        }
      ]
    },
    {
      "cell_type": "code",
      "source": [
        "# Compile the model\n",
        "model.compile(optimizer='adam', loss='mse')"
      ],
      "metadata": {
        "id": "L9U5iKVtsg2X"
      },
      "execution_count": null,
      "outputs": []
    },
    {
      "cell_type": "code",
      "source": [
        "# Train the model\n",
        "model.fit(x, y, epochs=10, verbose=1) #verbose = 0 for no output during training"
      ],
      "metadata": {
        "colab": {
          "base_uri": "https://localhost:8080/"
        },
        "id": "ZoWTssQrskfF",
        "outputId": "0541109e-6a5b-4336-c4f5-5854b9fae33f"
      },
      "execution_count": null,
      "outputs": [
        {
          "output_type": "stream",
          "name": "stdout",
          "text": [
            "Epoch 1/10\n",
            "\u001b[1m1/1\u001b[0m \u001b[32m━━━━━━━━━━━━━━━━━━━━\u001b[0m\u001b[37m\u001b[0m \u001b[1m0s\u001b[0m 71ms/step - loss: 0.4993\n",
            "Epoch 2/10\n",
            "\u001b[1m1/1\u001b[0m \u001b[32m━━━━━━━━━━━━━━━━━━━━\u001b[0m\u001b[37m\u001b[0m \u001b[1m0s\u001b[0m 133ms/step - loss: 0.4991\n",
            "Epoch 3/10\n",
            "\u001b[1m1/1\u001b[0m \u001b[32m━━━━━━━━━━━━━━━━━━━━\u001b[0m\u001b[37m\u001b[0m \u001b[1m0s\u001b[0m 60ms/step - loss: 0.4988\n",
            "Epoch 4/10\n",
            "\u001b[1m1/1\u001b[0m \u001b[32m━━━━━━━━━━━━━━━━━━━━\u001b[0m\u001b[37m\u001b[0m \u001b[1m0s\u001b[0m 55ms/step - loss: 0.4985\n",
            "Epoch 5/10\n",
            "\u001b[1m1/1\u001b[0m \u001b[32m━━━━━━━━━━━━━━━━━━━━\u001b[0m\u001b[37m\u001b[0m \u001b[1m0s\u001b[0m 58ms/step - loss: 0.4983\n",
            "Epoch 6/10\n",
            "\u001b[1m1/1\u001b[0m \u001b[32m━━━━━━━━━━━━━━━━━━━━\u001b[0m\u001b[37m\u001b[0m \u001b[1m0s\u001b[0m 57ms/step - loss: 0.4980\n",
            "Epoch 7/10\n",
            "\u001b[1m1/1\u001b[0m \u001b[32m━━━━━━━━━━━━━━━━━━━━\u001b[0m\u001b[37m\u001b[0m \u001b[1m0s\u001b[0m 56ms/step - loss: 0.4978\n",
            "Epoch 8/10\n",
            "\u001b[1m1/1\u001b[0m \u001b[32m━━━━━━━━━━━━━━━━━━━━\u001b[0m\u001b[37m\u001b[0m \u001b[1m0s\u001b[0m 61ms/step - loss: 0.4975\n",
            "Epoch 9/10\n",
            "\u001b[1m1/1\u001b[0m \u001b[32m━━━━━━━━━━━━━━━━━━━━\u001b[0m\u001b[37m\u001b[0m \u001b[1m0s\u001b[0m 54ms/step - loss: 0.4972\n",
            "Epoch 10/10\n",
            "\u001b[1m1/1\u001b[0m \u001b[32m━━━━━━━━━━━━━━━━━━━━\u001b[0m\u001b[37m\u001b[0m \u001b[1m0s\u001b[0m 55ms/step - loss: 0.4970\n"
          ]
        },
        {
          "output_type": "execute_result",
          "data": {
            "text/plain": [
              "<keras.src.callbacks.history.History at 0x7bd7c85c5850>"
            ]
          },
          "metadata": {},
          "execution_count": 13
        }
      ]
    },
    {
      "cell_type": "code",
      "source": [
        "# Make predictions\n",
        "predictions = model.predict(x)"
      ],
      "metadata": {
        "colab": {
          "base_uri": "https://localhost:8080/"
        },
        "id": "4t2XJ3bZspe5",
        "outputId": "2276437c-88ab-40e3-9625-733886bc6fd3"
      },
      "execution_count": null,
      "outputs": [
        {
          "output_type": "stream",
          "name": "stdout",
          "text": [
            "\u001b[1m1/1\u001b[0m \u001b[32m━━━━━━━━━━━━━━━━━━━━\u001b[0m\u001b[37m\u001b[0m \u001b[1m0s\u001b[0m 245ms/step\n"
          ]
        }
      ]
    },
    {
      "cell_type": "code",
      "source": [
        "print(predictions)"
      ],
      "metadata": {
        "colab": {
          "base_uri": "https://localhost:8080/"
        },
        "id": "JQTk-51asrNj",
        "outputId": "ac6bfe46-07b4-4dce-d457-0c1f00808acb"
      },
      "execution_count": null,
      "outputs": [
        {
          "output_type": "stream",
          "name": "stdout",
          "text": [
            "[[[ 0.02617343]\n",
            "  [-0.01169912]\n",
            "  [-0.13206528]\n",
            "  [-0.16721816]\n",
            "  [-0.157037  ]\n",
            "  [-0.17947583]\n",
            "  [-0.18461828]\n",
            "  [-0.17242582]\n",
            "  [-0.15377696]\n",
            "  [-0.10948033]\n",
            "  [-0.05137516]\n",
            "  [ 0.01118838]\n",
            "  [ 0.05414026]\n",
            "  [ 0.07465576]\n",
            "  [ 0.07429083]\n",
            "  [ 0.0792261 ]\n",
            "  [ 0.08190151]\n",
            "  [ 0.07993748]\n",
            "  [ 0.07429137]\n",
            "  [ 0.07332852]\n",
            "  [ 0.06788328]\n",
            "  [ 0.06674417]\n",
            "  [ 0.06481021]\n",
            "  [ 0.06254857]\n",
            "  [ 0.06080251]\n",
            "  [ 0.05927639]\n",
            "  [ 0.05735978]\n",
            "  [ 0.0553418 ]\n",
            "  [ 0.0525715 ]\n",
            "  [ 0.05056425]\n",
            "  [ 0.0477398 ]\n",
            "  [ 0.04524743]\n",
            "  [ 0.0424385 ]\n",
            "  [ 0.0400063 ]\n",
            "  [ 0.03730359]\n",
            "  [ 0.03480162]\n",
            "  [ 0.03218841]\n",
            "  [ 0.02977695]\n",
            "  [ 0.02716627]\n",
            "  [ 0.02472761]\n",
            "  [ 0.022154  ]\n",
            "  [ 0.01971426]\n",
            "  [ 0.01712593]\n",
            "  [ 0.01465597]\n",
            "  [ 0.01208892]\n",
            "  [ 0.00960132]\n",
            "  [ 0.00703307]\n",
            "  [ 0.0045385 ]\n",
            "  [ 0.00198223]\n",
            "  [-0.00051496]\n",
            "  [-0.00306992]\n",
            "  [-0.00557128]\n",
            "  [-0.00811223]\n",
            "  [-0.01062236]\n",
            "  [-0.01316146]\n",
            "  [-0.01567296]\n",
            "  [-0.01821194]\n",
            "  [-0.02072708]\n",
            "  [-0.02326212]\n",
            "  [-0.02577773]\n",
            "  [-0.02831361]\n",
            "  [-0.03082696]\n",
            "  [-0.03336576]\n",
            "  [-0.03587721]\n",
            "  [-0.03840927]\n",
            "  [-0.04093108]\n",
            "  [-0.04346094]\n",
            "  [-0.04598532]\n",
            "  [-0.04851095]\n",
            "  [-0.05103133]\n",
            "  [-0.05355988]\n",
            "  [-0.05608586]\n",
            "  [-0.05861167]\n",
            "  [-0.0611333 ]\n",
            "  [-0.06366108]\n",
            "  [-0.06618283]\n",
            "  [-0.06871567]\n",
            "  [-0.07123832]\n",
            "  [-0.07376394]\n",
            "  [-0.07628904]\n",
            "  [-0.07881174]\n",
            "  [-0.08133898]\n",
            "  [-0.08386526]\n",
            "  [-0.08638582]\n",
            "  [-0.08891413]\n",
            "  [-0.09144292]\n",
            "  [-0.09396402]\n",
            "  [-0.09649328]\n",
            "  [-0.09901098]\n",
            "  [-0.10154483]\n",
            "  [-0.10406838]\n",
            "  [-0.10659943]\n",
            "  [-0.10912368]\n",
            "  [-0.11164627]\n",
            "  [-0.11417256]\n",
            "  [-0.11669669]\n",
            "  [-0.1192219 ]\n",
            "  [-0.12174616]\n",
            "  [-0.12427662]\n",
            "  [-0.12679647]]]\n"
          ]
        }
      ]
    },
    {
      "cell_type": "markdown",
      "source": [
        "# prompt: summary of above all the code\n",
        "\n",
        "This code trains a simple recurrent neural network (RNN) using TensorFlow/Keras to predict the sine wave.\n",
        "\n",
        "1. **Data Generation:**  A sine wave is generated using NumPy. The `x` values are linearly spaced numbers, and `y` is the sine of these values.  The data is reshaped to fit the input requirements of the RNN (samples, timesteps, features).\n",
        "\n",
        "2. **Model Definition:** A sequential model is created.\n",
        "   - An `SimpleRNN` layer with 32 units and ReLU activation is added. Crucially, `return_sequences=True` ensures the RNN outputs a sequence (one prediction per timestep) instead of a single output for the whole sequence.  The `input_shape` specifies the expected input data format.\n",
        "   - A `Dense` layer with one unit is added as the output layer.\n",
        "\n",
        "3. **Model Compilation:** The model is compiled with the Adam optimizer and mean squared error (MSE) loss function, suitable for regression tasks.\n",
        "\n",
        "4. **Model Training:** The model is trained on the generated sine wave data for 100 epochs.  `verbose=0` suppresses training output.\n",
        "\n",
        "5. **Prediction:** The trained model makes predictions on the same input data (`x`) used for training.\n",
        "\n",
        "6. **Output:** The `predictions` variable contains the RNN's output, which is a sequence of values attempting to approximate the original sine wave.  The code then prints these predictions.  Essentially, the network learns to predict the next value in the sine wave given the previous values.\n"
      ],
      "metadata": {
        "id": "u5xBSnMtr4RX"
      }
    }
  ]
}